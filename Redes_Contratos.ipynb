{
 "cells": [
  {
   "cell_type": "markdown",
   "metadata": {},
   "source": [
    "# Análisis de redes de contratación"
   ]
  },
  {
   "cell_type": "code",
   "execution_count": 189,
   "metadata": {},
   "outputs": [],
   "source": [
    "import pandas as pd\n",
    "import numpy as np\n",
    "import matplotlib.pyplot as plt\n",
    "import networkx as nx"
   ]
  },
  {
   "cell_type": "markdown",
   "metadata": {},
   "source": [
    "## Pendientes"
   ]
  },
  {
   "cell_type": "markdown",
   "metadata": {},
   "source": [
    "- Limpiar el NIT de los contratistas\n",
    "- Quitar los contratos de prestación de servicios"
   ]
  },
  {
   "cell_type": "markdown",
   "metadata": {},
   "source": [
    "## Limpieza de datos"
   ]
  },
  {
   "cell_type": "code",
   "execution_count": 266,
   "metadata": {},
   "outputs": [
    {
     "name": "stderr",
     "output_type": "stream",
     "text": [
      "/Users/hfelizzola/opt/anaconda3/lib/python3.7/site-packages/IPython/core/interactiveshell.py:3058: DtypeWarning: Columns (57) have mixed types. Specify dtype option on import or set low_memory=False.\n",
      "  interactivity=interactivity, compiler=compiler, result=result)\n"
     ]
    },
    {
     "data": {
      "text/html": [
       "<div>\n",
       "<style scoped>\n",
       "    .dataframe tbody tr th:only-of-type {\n",
       "        vertical-align: middle;\n",
       "    }\n",
       "\n",
       "    .dataframe tbody tr th {\n",
       "        vertical-align: top;\n",
       "    }\n",
       "\n",
       "    .dataframe thead th {\n",
       "        text-align: right;\n",
       "    }\n",
       "</style>\n",
       "<table border=\"1\" class=\"dataframe\">\n",
       "  <thead>\n",
       "    <tr style=\"text-align: right;\">\n",
       "      <th></th>\n",
       "      <th>UID</th>\n",
       "      <th>Anno Cargue SECOP</th>\n",
       "      <th>Anno Firma del Contrato</th>\n",
       "      <th>Nivel Entidad</th>\n",
       "      <th>Orden Entidad</th>\n",
       "      <th>Nombre de la Entidad</th>\n",
       "      <th>NIT de la Entidad</th>\n",
       "      <th>Código de la Entidad</th>\n",
       "      <th>ID Tipo de Proceso</th>\n",
       "      <th>Tipo de Proceso</th>\n",
       "      <th>...</th>\n",
       "      <th>ID Origen de los Recursos</th>\n",
       "      <th>Origen de los Recursos</th>\n",
       "      <th>Codigo BPIN</th>\n",
       "      <th>Proponentes Seleccionados</th>\n",
       "      <th>Calificacion Definitiva</th>\n",
       "      <th>ID Sub Unidad Ejecutora</th>\n",
       "      <th>Nombre Sub Unidad Ejecutora</th>\n",
       "      <th>Moneda</th>\n",
       "      <th>EsPostConflicto</th>\n",
       "      <th>Ruta Proceso en SECOP I</th>\n",
       "    </tr>\n",
       "  </thead>\n",
       "  <tbody>\n",
       "    <tr>\n",
       "      <td>0</td>\n",
       "      <td>16-4-5459706-4978708</td>\n",
       "      <td>2016</td>\n",
       "      <td>2016.0</td>\n",
       "      <td>TERRITORIAL</td>\n",
       "      <td>TERRITORIAL DEPARTAMENTAL DESCENTRALIZADO</td>\n",
       "      <td>ANTIOQUIA - HOSPITAL GENERAL DE MEDELLÍN</td>\n",
       "      <td>890904646</td>\n",
       "      <td>205001222</td>\n",
       "      <td>4</td>\n",
       "      <td>Régimen Especial</td>\n",
       "      <td>...</td>\n",
       "      <td>0</td>\n",
       "      <td>No definido</td>\n",
       "      <td>-1</td>\n",
       "      <td>No definido</td>\n",
       "      <td>No definido</td>\n",
       "      <td>0</td>\n",
       "      <td>No definida</td>\n",
       "      <td>Pesos (COP)</td>\n",
       "      <td>No Definido</td>\n",
       "      <td>https://www.contratos.gov.co/consultas/detalle...</td>\n",
       "    </tr>\n",
       "    <tr>\n",
       "      <td>1</td>\n",
       "      <td>18-12-7702955-7155395</td>\n",
       "      <td>2018</td>\n",
       "      <td>2018.0</td>\n",
       "      <td>TERRITORIAL</td>\n",
       "      <td>TERRITORIAL DEPARTAMENTAL DESCENTRALIZADO</td>\n",
       "      <td>ANTIOQUIA - E.S.E. HOSPITAL SANTA MARGARITA - ...</td>\n",
       "      <td>890980949</td>\n",
       "      <td>20521238</td>\n",
       "      <td>12</td>\n",
       "      <td>Contratación Directa (Ley 1150 de 2007)</td>\n",
       "      <td>...</td>\n",
       "      <td>0</td>\n",
       "      <td>No definido</td>\n",
       "      <td>-1</td>\n",
       "      <td>No definido</td>\n",
       "      <td>No definido</td>\n",
       "      <td>0</td>\n",
       "      <td>No definida</td>\n",
       "      <td>Pesos (COP)</td>\n",
       "      <td>No Definido</td>\n",
       "      <td>https://www.contratos.gov.co/consultas/detalle...</td>\n",
       "    </tr>\n",
       "    <tr>\n",
       "      <td>2</td>\n",
       "      <td>17-12-6650779-0</td>\n",
       "      <td>2017</td>\n",
       "      <td>NaN</td>\n",
       "      <td>TERRITORIAL</td>\n",
       "      <td>TERRITORIAL DEPARTAMENTAL DESCENTRALIZADO</td>\n",
       "      <td>VALLE DEL CAUCA - E.S.E. RED DE SALUD DEL CENT...</td>\n",
       "      <td>805027261</td>\n",
       "      <td>276001726</td>\n",
       "      <td>12</td>\n",
       "      <td>Contratación Directa (Ley 1150 de 2007)</td>\n",
       "      <td>...</td>\n",
       "      <td>0</td>\n",
       "      <td>No definido</td>\n",
       "      <td>-1</td>\n",
       "      <td>No definido</td>\n",
       "      <td>No definido</td>\n",
       "      <td>0</td>\n",
       "      <td>No definida</td>\n",
       "      <td>No Definida</td>\n",
       "      <td>No Definido</td>\n",
       "      <td>https://www.contratos.gov.co/consultas/detalle...</td>\n",
       "    </tr>\n",
       "    <tr>\n",
       "      <td>3</td>\n",
       "      <td>16-4-5460276-4979366</td>\n",
       "      <td>2016</td>\n",
       "      <td>2016.0</td>\n",
       "      <td>TERRITORIAL</td>\n",
       "      <td>TERRITORIAL DEPARTAMENTAL DESCENTRALIZADO</td>\n",
       "      <td>CALDAS - E.S.E. HOSPITAL SAN VICENTE DE PAÚL -...</td>\n",
       "      <td>800191101</td>\n",
       "      <td>21704212</td>\n",
       "      <td>4</td>\n",
       "      <td>Régimen Especial</td>\n",
       "      <td>...</td>\n",
       "      <td>0</td>\n",
       "      <td>No definido</td>\n",
       "      <td>-1</td>\n",
       "      <td>No definido</td>\n",
       "      <td>No definido</td>\n",
       "      <td>0</td>\n",
       "      <td>No definida</td>\n",
       "      <td>Pesos (COP)</td>\n",
       "      <td>No Definido</td>\n",
       "      <td>https://www.contratos.gov.co/consultas/detalle...</td>\n",
       "    </tr>\n",
       "    <tr>\n",
       "      <td>4</td>\n",
       "      <td>18-12-7900606-7225934</td>\n",
       "      <td>2018</td>\n",
       "      <td>2018.0</td>\n",
       "      <td>TERRITORIAL</td>\n",
       "      <td>TERRITORIAL DEPARTAMENTAL DESCENTRALIZADO</td>\n",
       "      <td>CÓRDOBA - E.S.E. HOSPITAL SAN RAFAEL DE CHINÚ</td>\n",
       "      <td>800193912</td>\n",
       "      <td>223182017</td>\n",
       "      <td>12</td>\n",
       "      <td>Contratación Directa (Ley 1150 de 2007)</td>\n",
       "      <td>...</td>\n",
       "      <td>0</td>\n",
       "      <td>No definido</td>\n",
       "      <td>-1</td>\n",
       "      <td>No definido</td>\n",
       "      <td>No definido</td>\n",
       "      <td>0</td>\n",
       "      <td>No definida</td>\n",
       "      <td>Pesos (COP)</td>\n",
       "      <td>No Definido</td>\n",
       "      <td>https://www.contratos.gov.co/consultas/detalle...</td>\n",
       "    </tr>\n",
       "  </tbody>\n",
       "</table>\n",
       "<p>5 rows × 62 columns</p>\n",
       "</div>"
      ],
      "text/plain": [
       "                     UID  Anno Cargue SECOP  Anno Firma del Contrato  \\\n",
       "0   16-4-5459706-4978708               2016                   2016.0   \n",
       "1  18-12-7702955-7155395               2018                   2018.0   \n",
       "2        17-12-6650779-0               2017                      NaN   \n",
       "3   16-4-5460276-4979366               2016                   2016.0   \n",
       "4  18-12-7900606-7225934               2018                   2018.0   \n",
       "\n",
       "  Nivel Entidad                              Orden Entidad  \\\n",
       "0   TERRITORIAL  TERRITORIAL DEPARTAMENTAL DESCENTRALIZADO   \n",
       "1   TERRITORIAL  TERRITORIAL DEPARTAMENTAL DESCENTRALIZADO   \n",
       "2   TERRITORIAL  TERRITORIAL DEPARTAMENTAL DESCENTRALIZADO   \n",
       "3   TERRITORIAL  TERRITORIAL DEPARTAMENTAL DESCENTRALIZADO   \n",
       "4   TERRITORIAL  TERRITORIAL DEPARTAMENTAL DESCENTRALIZADO   \n",
       "\n",
       "                                Nombre de la Entidad  NIT de la Entidad  \\\n",
       "0           ANTIOQUIA - HOSPITAL GENERAL DE MEDELLÍN          890904646   \n",
       "1  ANTIOQUIA - E.S.E. HOSPITAL SANTA MARGARITA - ...          890980949   \n",
       "2  VALLE DEL CAUCA - E.S.E. RED DE SALUD DEL CENT...          805027261   \n",
       "3  CALDAS - E.S.E. HOSPITAL SAN VICENTE DE PAÚL -...          800191101   \n",
       "4      CÓRDOBA - E.S.E. HOSPITAL SAN RAFAEL DE CHINÚ          800193912   \n",
       "\n",
       "   Código de la Entidad  ID Tipo de Proceso  \\\n",
       "0             205001222                   4   \n",
       "1              20521238                  12   \n",
       "2             276001726                  12   \n",
       "3              21704212                   4   \n",
       "4             223182017                  12   \n",
       "\n",
       "                           Tipo de Proceso  ... ID Origen de los Recursos  \\\n",
       "0                         Régimen Especial  ...                         0   \n",
       "1  Contratación Directa (Ley 1150 de 2007)  ...                         0   \n",
       "2  Contratación Directa (Ley 1150 de 2007)  ...                         0   \n",
       "3                         Régimen Especial  ...                         0   \n",
       "4  Contratación Directa (Ley 1150 de 2007)  ...                         0   \n",
       "\n",
       "  Origen de los Recursos  Codigo BPIN Proponentes Seleccionados  \\\n",
       "0            No definido           -1               No definido   \n",
       "1            No definido           -1               No definido   \n",
       "2            No definido           -1               No definido   \n",
       "3            No definido           -1               No definido   \n",
       "4            No definido           -1               No definido   \n",
       "\n",
       "   Calificacion Definitiva ID Sub Unidad Ejecutora  \\\n",
       "0              No definido                       0   \n",
       "1              No definido                       0   \n",
       "2              No definido                       0   \n",
       "3              No definido                       0   \n",
       "4              No definido                       0   \n",
       "\n",
       "  Nombre Sub Unidad Ejecutora       Moneda EsPostConflicto  \\\n",
       "0                 No definida  Pesos (COP)     No Definido   \n",
       "1                 No definida  Pesos (COP)     No Definido   \n",
       "2                 No definida  No Definida     No Definido   \n",
       "3                 No definida  Pesos (COP)     No Definido   \n",
       "4                 No definida  Pesos (COP)     No Definido   \n",
       "\n",
       "                             Ruta Proceso en SECOP I  \n",
       "0  https://www.contratos.gov.co/consultas/detalle...  \n",
       "1  https://www.contratos.gov.co/consultas/detalle...  \n",
       "2  https://www.contratos.gov.co/consultas/detalle...  \n",
       "3  https://www.contratos.gov.co/consultas/detalle...  \n",
       "4  https://www.contratos.gov.co/consultas/detalle...  \n",
       "\n",
       "[5 rows x 62 columns]"
      ]
     },
     "execution_count": 266,
     "metadata": {},
     "output_type": "execute_result"
    }
   ],
   "source": [
    "contratos = pd.read_csv('SECOP_I_IPS.csv', sep = ';')\n",
    "contratos.head()"
   ]
  },
  {
   "cell_type": "code",
   "execution_count": 268,
   "metadata": {},
   "outputs": [
    {
     "data": {
      "text/plain": [
       "(1105606, 62)"
      ]
     },
     "execution_count": 268,
     "metadata": {},
     "output_type": "execute_result"
    }
   ],
   "source": [
    "contratos.shape"
   ]
  },
  {
   "cell_type": "markdown",
   "metadata": {},
   "source": [
    "### Ajuste de fechas"
   ]
  },
  {
   "cell_type": "markdown",
   "metadata": {},
   "source": [
    "A continuación se ajustan los nombres de las columnas:"
   ]
  },
  {
   "cell_type": "code",
   "execution_count": 269,
   "metadata": {},
   "outputs": [],
   "source": [
    "columnas = ['UID','año_cargue','año_firma','nivel_entidad','orden_entidad',\n",
    "            'nombre_entidad','nit_entidad','cod_entidad','id_tipo_proceso',\n",
    "            'tipo_proceso','estado_proceso','causal_cont_direct','id_reg_contrat',\n",
    "            'regimen_contratacion','id_objeto','objeto_contratar','detalle_objeto',\n",
    "            'tipo_contrato','municipio_obtencion','municipio_entrega',\n",
    "            'municipio_ejecucion','fecha_cargue','numero_constancia','numero_proceso',\n",
    "            'numero_contrato','valor_estimado','id_grupo','nombre_grupo','id_familia',\n",
    "            'nombre_familia','id_clase','nombre_clase','id_adjudicacion',\n",
    "            'tipo_id_contratista','id_contratista','contratista','departamento_contratista',\n",
    "            'tipo_id_rep_legal','id_rep_legal','nombre_rep_legal','fecha_firma',\n",
    "            'fecha_ini_ejec','plazo_ejec','rango_ejec','adiciones_dias','adiciones_meses',\n",
    "            'fecha_fin_ejec','compromiso_presupuestal','valor_inicial','valor_adiciones',\n",
    "            'valor_total','objeto_contrato_firma','id_origen_recursos','origen_recursos',\n",
    "            'codigo_BPIN','proponentes_selecc','calificacion_definitiva','id_sub_unid_ejec',\n",
    "            'nombre_sub_unid_ejec','moneda','post_conflicto','ruta_web']\n",
    "contratos.columns = columnas"
   ]
  },
  {
   "cell_type": "markdown",
   "metadata": {},
   "source": [
    "Se ajusta el formato de fecha en las columnas: fecha de firma, fecha de inicio de ejecución y fecha de fin de ejecución:"
   ]
  },
  {
   "cell_type": "code",
   "execution_count": 270,
   "metadata": {},
   "outputs": [],
   "source": [
    "col_fechas = ['fecha_firma','fecha_ini_ejec','fecha_fin_ejec']\n",
    "\n",
    "for i in col_fechas:\n",
    "    #print(i)\n",
    "    contratos[i] = pd.to_datetime(contratos[i])"
   ]
  },
  {
   "cell_type": "markdown",
   "metadata": {},
   "source": [
    "Se eliminan contratos donde el plazo estimado es un NA:"
   ]
  },
  {
   "cell_type": "code",
   "execution_count": 271,
   "metadata": {},
   "outputs": [
    {
     "data": {
      "text/plain": [
       "(955565, 63)"
      ]
     },
     "execution_count": 271,
     "metadata": {},
     "output_type": "execute_result"
    }
   ],
   "source": [
    "contratos['plazo_estimado'] = contratos['fecha_fin_ejec'] - contratos['fecha_ini_ejec']\n",
    "contratos = contratos.dropna(subset=['plazo_estimado'])\n",
    "contratos.shape"
   ]
  },
  {
   "cell_type": "markdown",
   "metadata": {},
   "source": [
    "Se eliminan 150041 contratos (1105606-955565)."
   ]
  },
  {
   "cell_type": "code",
   "execution_count": 272,
   "metadata": {},
   "outputs": [
    {
     "data": {
      "text/plain": [
       "count                      955565\n",
       "mean      63 days 03:10:24.458635\n",
       "std      138 days 22:12:01.871532\n",
       "min           -334 days +00:00:00\n",
       "25%               1 days 00:00:00\n",
       "50%               3 days 00:00:00\n",
       "75%              62 days 00:00:00\n",
       "max           19721 days 00:00:00\n",
       "Name: plazo_estimado, dtype: object"
      ]
     },
     "execution_count": 272,
     "metadata": {},
     "output_type": "execute_result"
    }
   ],
   "source": [
    "contratos['plazo_estimado'].describe()"
   ]
  },
  {
   "cell_type": "code",
   "execution_count": 273,
   "metadata": {},
   "outputs": [
    {
     "data": {
      "text/html": [
       "<div>\n",
       "<style scoped>\n",
       "    .dataframe tbody tr th:only-of-type {\n",
       "        vertical-align: middle;\n",
       "    }\n",
       "\n",
       "    .dataframe tbody tr th {\n",
       "        vertical-align: top;\n",
       "    }\n",
       "\n",
       "    .dataframe thead th {\n",
       "        text-align: right;\n",
       "    }\n",
       "</style>\n",
       "<table border=\"1\" class=\"dataframe\">\n",
       "  <thead>\n",
       "    <tr style=\"text-align: right;\">\n",
       "      <th></th>\n",
       "      <th>fecha_fin_ejec</th>\n",
       "      <th>fecha_ini_ejec</th>\n",
       "      <th>plazo_estimado</th>\n",
       "    </tr>\n",
       "  </thead>\n",
       "  <tbody>\n",
       "    <tr>\n",
       "      <td>6</td>\n",
       "      <td>2016-03-09</td>\n",
       "      <td>2016-08-18</td>\n",
       "      <td>-162 days</td>\n",
       "    </tr>\n",
       "    <tr>\n",
       "      <td>9</td>\n",
       "      <td>2017-07-19</td>\n",
       "      <td>2017-09-06</td>\n",
       "      <td>-49 days</td>\n",
       "    </tr>\n",
       "    <tr>\n",
       "      <td>67</td>\n",
       "      <td>2016-01-02</td>\n",
       "      <td>2016-02-01</td>\n",
       "      <td>-30 days</td>\n",
       "    </tr>\n",
       "    <tr>\n",
       "      <td>86</td>\n",
       "      <td>2016-04-09</td>\n",
       "      <td>2016-08-19</td>\n",
       "      <td>-132 days</td>\n",
       "    </tr>\n",
       "    <tr>\n",
       "      <td>105</td>\n",
       "      <td>2016-07-31</td>\n",
       "      <td>2016-11-07</td>\n",
       "      <td>-99 days</td>\n",
       "    </tr>\n",
       "  </tbody>\n",
       "</table>\n",
       "</div>"
      ],
      "text/plain": [
       "    fecha_fin_ejec fecha_ini_ejec plazo_estimado\n",
       "6       2016-03-09     2016-08-18      -162 days\n",
       "9       2017-07-19     2017-09-06       -49 days\n",
       "67      2016-01-02     2016-02-01       -30 days\n",
       "86      2016-04-09     2016-08-19      -132 days\n",
       "105     2016-07-31     2016-11-07       -99 days"
      ]
     },
     "execution_count": 273,
     "metadata": {},
     "output_type": "execute_result"
    }
   ],
   "source": [
    "temp = contratos.loc[contratos['plazo_estimado'] < pd.Timedelta(0,'D'), ['fecha_fin_ejec','fecha_ini_ejec','plazo_estimado']]\n",
    "temp.head()"
   ]
  },
  {
   "cell_type": "code",
   "execution_count": 274,
   "metadata": {},
   "outputs": [
    {
     "data": {
      "text/plain": [
       "(69075, 3)"
      ]
     },
     "execution_count": 274,
     "metadata": {},
     "output_type": "execute_result"
    }
   ],
   "source": [
    "temp.shape"
   ]
  },
  {
   "cell_type": "markdown",
   "metadata": {},
   "source": [
    "Hay 69075 contratos donde la fecha de fin del contrato esta antes de la fecha de inicio **¿Que se hace con estos contratos?**"
   ]
  },
  {
   "cell_type": "markdown",
   "metadata": {},
   "source": [
    "### Convenios interadministrativos"
   ]
  },
  {
   "cell_type": "code",
   "execution_count": 275,
   "metadata": {},
   "outputs": [],
   "source": [
    "index_conv = contratos.loc[contratos['detalle_objeto'].str.contains('aunar esfuerzos|anuar esfuerzos|aunar espuerzos', regex=True) == True,\n",
    "                     'detalle_objeto'].index"
   ]
  },
  {
   "cell_type": "code",
   "execution_count": 276,
   "metadata": {},
   "outputs": [
    {
     "data": {
      "text/plain": [
       "(955492, 63)"
      ]
     },
     "execution_count": 276,
     "metadata": {},
     "output_type": "execute_result"
    }
   ],
   "source": [
    "contratos = contratos.drop(index_conv)\n",
    "contratos.shape"
   ]
  },
  {
   "cell_type": "markdown",
   "metadata": {},
   "source": [
    "### Contratos de transacciones bancarias y manejo de inmuebles\n",
    "\n",
    "Se retiran contratos que se refieran a:\n",
    "\n",
    "- Crédito\n",
    "- Fiducia\n",
    "- Comodato\n",
    "- Arrendamiento"
   ]
  },
  {
   "cell_type": "code",
   "execution_count": 281,
   "metadata": {},
   "outputs": [
    {
     "data": {
      "text/plain": [
       "Int64Index([], dtype='int64')"
      ]
     },
     "execution_count": 281,
     "metadata": {},
     "output_type": "execute_result"
    }
   ],
   "source": [
    "# Se extre el index de los contratos con transacciones bancarias y manejo de inmuebles\n",
    "trans_banc = ['Crédito','Fiducia','Comodato','Arrendamiento']\n",
    "index_trans = contratos.loc[contratos['tipo_contrato'].isin(trans_banc)].index\n",
    "index_trans"
   ]
  },
  {
   "cell_type": "code",
   "execution_count": 282,
   "metadata": {},
   "outputs": [
    {
     "data": {
      "text/plain": [
       "(950732, 63)"
      ]
     },
     "execution_count": 282,
     "metadata": {},
     "output_type": "execute_result"
    }
   ],
   "source": [
    "contratos = contratos.drop(index_trans)\n",
    "contratos.shape"
   ]
  },
  {
   "cell_type": "markdown",
   "metadata": {},
   "source": [
    "Ahora se retiran contratos que hablen de emprestitos"
   ]
  },
  {
   "cell_type": "code",
   "execution_count": 283,
   "metadata": {},
   "outputs": [
    {
     "data": {
      "text/plain": [
       "(0,)"
      ]
     },
     "execution_count": 283,
     "metadata": {},
     "output_type": "execute_result"
    }
   ],
   "source": [
    "index_empres = contratos.loc[contratos['detalle_objeto'].str.contains('empréstito|emprestito|empresito', regex=True) == True].index\n",
    "index_empres.shape"
   ]
  },
  {
   "cell_type": "markdown",
   "metadata": {},
   "source": [
    "### Contratos de prestación de servicios"
   ]
  },
  {
   "cell_type": "code",
   "execution_count": 284,
   "metadata": {},
   "outputs": [
    {
     "data": {
      "text/plain": [
       "(281746, 63)"
      ]
     },
     "execution_count": 284,
     "metadata": {},
     "output_type": "execute_result"
    }
   ],
   "source": [
    "index_pres_serv = contratos[contratos['tipo_contrato'] == 'Prestación de Servicios'].index\n",
    "contratos = contratos.drop(index_pres_serv)\n",
    "contratos.shape"
   ]
  },
  {
   "cell_type": "code",
   "execution_count": 285,
   "metadata": {},
   "outputs": [
    {
     "data": {
      "image/png": "[encoded data removed]",
      "text/plain": [
       "<Figure size 720x360 with 1 Axes>"
      ]
     },
     "metadata": {
      "needs_background": "light"
     },
     "output_type": "display_data"
    }
   ],
   "source": [
    "plt.figure(figsize=(10,5))\n",
    "contratos.groupby(['tipo_contrato']).size().sort_values(ascending = False).plot.bar()\n",
    "plt.title(\"Numero de contratos por tipo\")\n",
    "plt.show()"
   ]
  },
  {
   "cell_type": "markdown",
   "metadata": {},
   "source": [
    "### Año de cargue vs año de registro"
   ]
  },
  {
   "cell_type": "markdown",
   "metadata": {},
   "source": [
    "Eliminar contratos con año de firma o cargue antes de 2014"
   ]
  },
  {
   "cell_type": "code",
   "execution_count": 286,
   "metadata": {},
   "outputs": [
    {
     "data": {
      "text/plain": [
       "Int64Index([    430,    4177,   17142,   17233,   17234,   20967,   21573,\n",
       "              23539,   24263,   24556,\n",
       "            ...\n",
       "            1089650, 1089755, 1089940, 1090005, 1090461, 1090867, 1092106,\n",
       "            1104821, 1105259, 1105267],\n",
       "           dtype='int64', length=4953)"
      ]
     },
     "execution_count": 286,
     "metadata": {},
     "output_type": "execute_result"
    }
   ],
   "source": [
    "index_antes_2014 = contratos.loc[(contratos['año_firma'] < 2014) | (contratos['año_cargue'] < 2014)].index\n",
    "index_antes_2014"
   ]
  },
  {
   "cell_type": "code",
   "execution_count": 287,
   "metadata": {},
   "outputs": [
    {
     "data": {
      "text/plain": [
       "(276793, 63)"
      ]
     },
     "execution_count": 287,
     "metadata": {},
     "output_type": "execute_result"
    }
   ],
   "source": [
    "contratos = contratos.drop(index_antes_2014)\n",
    "contratos.shape"
   ]
  },
  {
   "cell_type": "markdown",
   "metadata": {},
   "source": [
    "Se depuran los registros en el cuales el *año de cargue* $>$ *año de firma*"
   ]
  },
  {
   "cell_type": "code",
   "execution_count": 288,
   "metadata": {},
   "outputs": [
    {
     "data": {
      "text/plain": [
       "año_firma\n",
       "2014.0    23257\n",
       "2015.0    58976\n",
       "2016.0    60412\n",
       "2017.0    56544\n",
       "2018.0    65516\n",
       "2019.0    12088\n",
       "dtype: int64"
      ]
     },
     "execution_count": 288,
     "metadata": {},
     "output_type": "execute_result"
    }
   ],
   "source": [
    "contratos.groupby(['año_firma']).size()"
   ]
  },
  {
   "cell_type": "code",
   "execution_count": 289,
   "metadata": {},
   "outputs": [
    {
     "data": {
      "text/plain": [
       "año_cargue\n",
       "2014    18046\n",
       "2015    61053\n",
       "2016    57317\n",
       "2017    50273\n",
       "2018    74512\n",
       "2019    15592\n",
       "dtype: int64"
      ]
     },
     "execution_count": 289,
     "metadata": {},
     "output_type": "execute_result"
    }
   ],
   "source": [
    "contratos.groupby(['año_cargue']).size()"
   ]
  },
  {
   "cell_type": "code",
   "execution_count": 290,
   "metadata": {},
   "outputs": [
    {
     "data": {
      "text/plain": [
       "(246810, 63)"
      ]
     },
     "execution_count": 290,
     "metadata": {},
     "output_type": "execute_result"
    }
   ],
   "source": [
    "index_carg_inco = contratos.loc[(contratos['año_cargue'] > contratos['año_firma']) == True].index\n",
    "contratos = contratos.drop(index_carg_inco)\n",
    "contratos.shape"
   ]
  },
  {
   "cell_type": "markdown",
   "metadata": {},
   "source": [
    "### NIT de los contratistas"
   ]
  },
  {
   "cell_type": "markdown",
   "metadata": {},
   "source": [
    "Una limpieza inicial consistira en:\n",
    "\n",
    "- Quitar espacios en blanco\n",
    "- Quitar caracteres especiales como: `.` `,` `-` `¿?` `\\` `|`\n",
    "- Quitar texto\n",
    "- Ajustar el NIT de personas juridicas a 9 digitos\n",
    "- Ajustar el id de personas naturales al maximo permitido por el gobierno\n",
    "- Quitar registros con id en blanco\n",
    "- Quitar id con regi"
   ]
  },
  {
   "cell_type": "code",
   "execution_count": 291,
   "metadata": {},
   "outputs": [
    {
     "data": {
      "text/plain": [
       "id_contratista\n",
       "-4                   1\n",
       "-6                   1\n",
       ".                    1\n",
       ". 18.3511.935 - 1    1\n",
       ". 23965790-5         1\n",
       "                    ..\n",
       " 900.306.068-1       1\n",
       " 9001322031          2\n",
       " 900294380-1         1\n",
       " 900544826-6         5\n",
       " 9005448266          2\n",
       "Length: 35276, dtype: int64"
      ]
     },
     "execution_count": 291,
     "metadata": {},
     "output_type": "execute_result"
    }
   ],
   "source": [
    "# Unicos id de contratistas\n",
    "contratos.groupby(['id_contratista']).size()"
   ]
  },
  {
   "cell_type": "code",
   "execution_count": 292,
   "metadata": {},
   "outputs": [],
   "source": [
    "# Se quita todo lo que no sea numerico\n",
    "contratos['id_contratista_mod'] = contratos.id_contratista.str.replace(r'\\D', '')\n",
    "# El codigo de abajo es para quitar caracteres especiales\n",
    "# contratos['id_contratista_mod'] = contratos['id_contratista_mod'].str.replace('\\.|\\-|\\$|\\?|\\¿', '')"
   ]
  },
  {
   "cell_type": "code",
   "execution_count": 293,
   "metadata": {},
   "outputs": [
    {
     "data": {
      "text/plain": [
       "id_contratista_mod\n",
       "             57\n",
       "0             6\n",
       "00000         1\n",
       "000000        1\n",
       "0000000       1\n",
       "             ..\n",
       "9976068       4\n",
       "998488463     1\n",
       "9993456       5\n",
       "9994361       1\n",
       "9994846       1\n",
       "Length: 31137, dtype: int64"
      ]
     },
     "execution_count": 293,
     "metadata": {},
     "output_type": "execute_result"
    }
   ],
   "source": [
    "contratos.groupby(['id_contratista_mod']).size()"
   ]
  },
  {
   "cell_type": "markdown",
   "metadata": {},
   "source": [
    "Pasamos de **35276 a 31137** id de contratistas unicos"
   ]
  },
  {
   "cell_type": "code",
   "execution_count": 261,
   "metadata": {},
   "outputs": [
    {
     "name": "stderr",
     "output_type": "stream",
     "text": [
      "/Users/hfelizzola/opt/anaconda3/lib/python3.7/site-packages/ipykernel_launcher.py:1: FutureWarning: The signature of `Series.to_csv` was aligned to that of `DataFrame.to_csv`, and argument 'header' will change its default value from False to True: please pass an explicit value to suppress this warning.\n",
      "  \"\"\"Entry point for launching an IPython kernel.\n"
     ]
    }
   ],
   "source": [
    "contratos['id_contratista_mod'].to_csv('id_contratista.csv')"
   ]
  },
  {
   "cell_type": "markdown",
   "metadata": {},
   "source": [
    "## Construir la matriz de adyacencia"
   ]
  },
  {
   "cell_type": "code",
   "execution_count": 319,
   "metadata": {},
   "outputs": [
    {
     "data": {
      "text/plain": [
       "(46282, 3)"
      ]
     },
     "execution_count": 319,
     "metadata": {},
     "output_type": "execute_result"
    }
   ],
   "source": [
    "red = contratos.groupby(['nit_entidad','id_contratista_mod']).size().sort_values(ascending = False).reset_index()\n",
    "red.shape"
   ]
  },
  {
   "cell_type": "code",
   "execution_count": 330,
   "metadata": {},
   "outputs": [
    {
     "data": {
      "text/plain": [
       "count    46282.000000\n",
       "mean         5.332743\n",
       "std         34.320018\n",
       "min          1.000000\n",
       "25%          1.000000\n",
       "50%          1.000000\n",
       "75%          3.000000\n",
       "max       1948.000000\n",
       "Name: Contratos, dtype: float64"
      ]
     },
     "execution_count": 330,
     "metadata": {},
     "output_type": "execute_result"
    }
   ],
   "source": [
    "red.columns = (['Entidad','Contratista','Contratos'])\n",
    "red.Contratos.describe()"
   ]
  },
  {
   "cell_type": "markdown",
   "metadata": {},
   "source": [
    "Hacer algunos filtros por el numero de contratos entre entidades"
   ]
  },
  {
   "cell_type": "code",
   "execution_count": 324,
   "metadata": {},
   "outputs": [
    {
     "data": {
      "text/plain": [
       "(295, 3)"
      ]
     },
     "execution_count": 324,
     "metadata": {},
     "output_type": "execute_result"
    }
   ],
   "source": [
    "red.loc[red['Contratos'] > 100].shape"
   ]
  },
  {
   "cell_type": "markdown",
   "metadata": {},
   "source": [
    "Se gráfica la distribución del numero de contratos"
   ]
  },
  {
   "cell_type": "code",
   "execution_count": 328,
   "metadata": {},
   "outputs": [
    {
     "data": {
      "image/png": "[encoded data removed]",
      "text/plain": [
       "<Figure size 432x288 with 1 Axes>"
      ]
     },
     "metadata": {
      "needs_background": "light"
     },
     "output_type": "display_data"
    }
   ],
   "source": [
    "red.Contratos.plot.hist()\n",
    "plt.title(\"H\")\n",
    "plt.show()"
   ]
  }
 ],
 "metadata": {
  "kernelspec": {
   "display_name": "Python 3",
   "language": "python",
   "name": "python3"
  },
  "language_info": {
   "codemirror_mode": {
    "name": "ipython",
    "version": 3
   },
   "file_extension": ".py",
   "mimetype": "text/x-python",
   "name": "python",
   "nbconvert_exporter": "python",
   "pygments_lexer": "ipython3",
   "version": "3.7.4"
  }
 },
 "nbformat": 4,
 "nbformat_minor": 4
}
